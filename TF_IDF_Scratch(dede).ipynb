{
  "nbformat": 4,
  "nbformat_minor": 0,
  "metadata": {
    "colab": {
      "name": "TF/IDF - Scratch(dede).ipynb",
      "provenance": [],
      "collapsed_sections": []
    },
    "kernelspec": {
      "name": "python3",
      "display_name": "Python 3"
    }
  },
  "cells": [
    {
      "cell_type": "code",
      "metadata": {
        "id": "58nIK3HrNl5u",
        "colab_type": "code",
        "outputId": "1a831ade-3818-4881-ea9a-0359555bd5da",
        "colab": {
          "base_uri": "https://localhost:8080/",
          "height": 34
        }
      },
      "source": [
        "doc_data = [\"I am the king\",\n",
        "        \"The kingdom is prosperous\",\n",
        "        \"She is the queen\",\n",
        "        \"The royal queen is beautifull\",\n",
        "        \"The king and the queen rule the kingdom\"]\n",
        "print(doc_data)"
      ],
      "execution_count": 0,
      "outputs": [
        {
          "output_type": "stream",
          "text": [
            "['I am the king', 'The kingdom is prosperous', 'She is the queen', 'The royal queen is beautifull', 'The king and the queen rule the kingdom']\n"
          ],
          "name": "stdout"
        }
      ]
    },
    {
      "cell_type": "code",
      "metadata": {
        "id": "08hwW3HzPgfb",
        "colab_type": "code",
        "outputId": "840dff6d-01af-4f82-eaa6-10b29cf372ec",
        "colab": {
          "base_uri": "https://localhost:8080/",
          "height": 68
        }
      },
      "source": [
        "import nltk\n",
        "from nltk.tokenize import word_tokenize\n",
        "nltk.download('punkt')"
      ],
      "execution_count": 0,
      "outputs": [
        {
          "output_type": "stream",
          "text": [
            "[nltk_data] Downloading package punkt to /root/nltk_data...\n",
            "[nltk_data]   Unzipping tokenizers/punkt.zip.\n"
          ],
          "name": "stdout"
        },
        {
          "output_type": "execute_result",
          "data": {
            "text/plain": [
              "True"
            ]
          },
          "metadata": {
            "tags": []
          },
          "execution_count": 3
        }
      ]
    },
    {
      "cell_type": "code",
      "metadata": {
        "id": "MFDybTLBR2_i",
        "colab_type": "code",
        "outputId": "154161a9-6dd8-4a78-8600-5879c3cb058b",
        "colab": {
          "base_uri": "https://localhost:8080/",
          "height": 442
        }
      },
      "source": [
        "all_words = []\n",
        "\n",
        "for doc in doc_data:\n",
        "  doc = word_tokenize(doc)\n",
        "  # print(doc)\n",
        "  for d in doc:\n",
        "    d = d.lower()\n",
        "    all_words.append(d)\n",
        "\n",
        "\n",
        "all_words"
      ],
      "execution_count": 0,
      "outputs": [
        {
          "output_type": "execute_result",
          "data": {
            "text/plain": [
              "['i',\n",
              " 'am',\n",
              " 'the',\n",
              " 'king',\n",
              " 'the',\n",
              " 'kingdom',\n",
              " 'is',\n",
              " 'prosperous',\n",
              " 'she',\n",
              " 'is',\n",
              " 'the',\n",
              " 'queen',\n",
              " 'the',\n",
              " 'royal',\n",
              " 'queen',\n",
              " 'is',\n",
              " 'beautifull',\n",
              " 'the',\n",
              " 'king',\n",
              " 'and',\n",
              " 'the',\n",
              " 'queen',\n",
              " 'rule',\n",
              " 'the',\n",
              " 'kingdom']"
            ]
          },
          "metadata": {
            "tags": []
          },
          "execution_count": 4
        }
      ]
    },
    {
      "cell_type": "code",
      "metadata": {
        "id": "qHEduAtZSoNQ",
        "colab_type": "code",
        "outputId": "2c6e5efb-ade2-45fa-c242-caf59cd24da1",
        "colab": {
          "base_uri": "https://localhost:8080/",
          "height": 231
        }
      },
      "source": [
        "bowDoc = {}\n",
        "for word in all_words:\n",
        "  if word not in bowDoc.keys():\n",
        "    bowDoc[word] = 1\n",
        "  else:\n",
        "    bowDoc[word] += 1\n",
        "\n",
        "bowDoc"
      ],
      "execution_count": 0,
      "outputs": [
        {
          "output_type": "error",
          "ename": "NameError",
          "evalue": "ignored",
          "traceback": [
            "\u001b[0;31m---------------------------------------------------------------------------\u001b[0m",
            "\u001b[0;31mNameError\u001b[0m                                 Traceback (most recent call last)",
            "\u001b[0;32m<ipython-input-2-75cf2e4ebc0b>\u001b[0m in \u001b[0;36m<module>\u001b[0;34m()\u001b[0m\n\u001b[1;32m      1\u001b[0m \u001b[0mbowDoc\u001b[0m \u001b[0;34m=\u001b[0m \u001b[0;34m{\u001b[0m\u001b[0;34m}\u001b[0m\u001b[0;34m\u001b[0m\u001b[0;34m\u001b[0m\u001b[0m\n\u001b[0;32m----> 2\u001b[0;31m \u001b[0;32mfor\u001b[0m \u001b[0mword\u001b[0m \u001b[0;32min\u001b[0m \u001b[0mall_words\u001b[0m\u001b[0;34m:\u001b[0m\u001b[0;34m\u001b[0m\u001b[0;34m\u001b[0m\u001b[0m\n\u001b[0m\u001b[1;32m      3\u001b[0m   \u001b[0;32mif\u001b[0m \u001b[0mword\u001b[0m \u001b[0;32mnot\u001b[0m \u001b[0;32min\u001b[0m \u001b[0mbowDoc\u001b[0m\u001b[0;34m.\u001b[0m\u001b[0mkeys\u001b[0m\u001b[0;34m(\u001b[0m\u001b[0;34m)\u001b[0m\u001b[0;34m:\u001b[0m\u001b[0;34m\u001b[0m\u001b[0;34m\u001b[0m\u001b[0m\n\u001b[1;32m      4\u001b[0m     \u001b[0mbowDoc\u001b[0m\u001b[0;34m[\u001b[0m\u001b[0mword\u001b[0m\u001b[0;34m]\u001b[0m \u001b[0;34m=\u001b[0m \u001b[0;36m1\u001b[0m\u001b[0;34m\u001b[0m\u001b[0;34m\u001b[0m\u001b[0m\n\u001b[1;32m      5\u001b[0m   \u001b[0;32melse\u001b[0m\u001b[0;34m:\u001b[0m\u001b[0;34m\u001b[0m\u001b[0;34m\u001b[0m\u001b[0m\n",
            "\u001b[0;31mNameError\u001b[0m: name 'all_words' is not defined"
          ]
        }
      ]
    },
    {
      "cell_type": "code",
      "metadata": {
        "id": "rrW7nVLeT84Z",
        "colab_type": "code",
        "outputId": "8d6030ca-1f19-42a3-bf8c-0d517733978f",
        "colab": {
          "base_uri": "https://localhost:8080/",
          "height": 80
        }
      },
      "source": [
        "import pandas as pd\n",
        "pd.DataFrame([bowDoc])"
      ],
      "execution_count": 0,
      "outputs": [
        {
          "output_type": "execute_result",
          "data": {
            "text/html": [
              "<div>\n",
              "<style scoped>\n",
              "    .dataframe tbody tr th:only-of-type {\n",
              "        vertical-align: middle;\n",
              "    }\n",
              "\n",
              "    .dataframe tbody tr th {\n",
              "        vertical-align: top;\n",
              "    }\n",
              "\n",
              "    .dataframe thead th {\n",
              "        text-align: right;\n",
              "    }\n",
              "</style>\n",
              "<table border=\"1\" class=\"dataframe\">\n",
              "  <thead>\n",
              "    <tr style=\"text-align: right;\">\n",
              "      <th></th>\n",
              "      <th>i</th>\n",
              "      <th>am</th>\n",
              "      <th>the</th>\n",
              "      <th>king</th>\n",
              "      <th>kingdom</th>\n",
              "      <th>is</th>\n",
              "      <th>prosperous</th>\n",
              "      <th>she</th>\n",
              "      <th>queen</th>\n",
              "      <th>royal</th>\n",
              "      <th>beautifull</th>\n",
              "      <th>and</th>\n",
              "      <th>rule</th>\n",
              "    </tr>\n",
              "  </thead>\n",
              "  <tbody>\n",
              "    <tr>\n",
              "      <th>0</th>\n",
              "      <td>1</td>\n",
              "      <td>1</td>\n",
              "      <td>7</td>\n",
              "      <td>2</td>\n",
              "      <td>2</td>\n",
              "      <td>3</td>\n",
              "      <td>1</td>\n",
              "      <td>1</td>\n",
              "      <td>3</td>\n",
              "      <td>1</td>\n",
              "      <td>1</td>\n",
              "      <td>1</td>\n",
              "      <td>1</td>\n",
              "    </tr>\n",
              "  </tbody>\n",
              "</table>\n",
              "</div>"
            ],
            "text/plain": [
              "   i  am  the  king  kingdom  is  ...  she  queen  royal  beautifull  and  rule\n",
              "0  1   1    7     2        2   3  ...    1      3      1           1    1     1\n",
              "\n",
              "[1 rows x 13 columns]"
            ]
          },
          "metadata": {
            "tags": []
          },
          "execution_count": 6
        }
      ]
    },
    {
      "cell_type": "code",
      "metadata": {
        "id": "3IG_oAx_VuXp",
        "colab_type": "code",
        "outputId": "5ec572aa-eab3-4b52-d6b1-18da600aebfd",
        "colab": {
          "base_uri": "https://localhost:8080/",
          "height": 238
        }
      },
      "source": [
        "total_words = len(all_words)\n",
        "# print(total_words)\n",
        "\n",
        "term_freq = {}\n",
        "\n",
        "for word in all_words:\n",
        "  term_freq[word] = bowDoc.get(word)/total_words\n",
        "\n",
        "term_freq"
      ],
      "execution_count": 0,
      "outputs": [
        {
          "output_type": "execute_result",
          "data": {
            "text/plain": [
              "{'am': 0.04,\n",
              " 'and': 0.04,\n",
              " 'beautifull': 0.04,\n",
              " 'i': 0.04,\n",
              " 'is': 0.12,\n",
              " 'king': 0.08,\n",
              " 'kingdom': 0.08,\n",
              " 'prosperous': 0.04,\n",
              " 'queen': 0.12,\n",
              " 'royal': 0.04,\n",
              " 'rule': 0.04,\n",
              " 'she': 0.04,\n",
              " 'the': 0.28}"
            ]
          },
          "metadata": {
            "tags": []
          },
          "execution_count": 7
        }
      ]
    },
    {
      "cell_type": "code",
      "metadata": {
        "id": "jDCnvhvBWREq",
        "colab_type": "code",
        "outputId": "66c2ba7a-0a3d-4601-acd6-9251392ba74e",
        "colab": {
          "base_uri": "https://localhost:8080/",
          "height": 238
        }
      },
      "source": [
        "import math\n",
        "\n",
        "inver_freq = {}\n",
        "for word in all_words:\n",
        "  inver_freq[word] = math.log(len(all_words) / bowDoc[word])\n",
        "\n",
        "inver_freq"
      ],
      "execution_count": 0,
      "outputs": [
        {
          "output_type": "execute_result",
          "data": {
            "text/plain": [
              "{'am': 3.2188758248682006,\n",
              " 'and': 3.2188758248682006,\n",
              " 'beautifull': 3.2188758248682006,\n",
              " 'i': 3.2188758248682006,\n",
              " 'is': 2.120263536200091,\n",
              " 'king': 2.5257286443082556,\n",
              " 'kingdom': 2.5257286443082556,\n",
              " 'prosperous': 3.2188758248682006,\n",
              " 'queen': 2.120263536200091,\n",
              " 'royal': 3.2188758248682006,\n",
              " 'rule': 3.2188758248682006,\n",
              " 'she': 3.2188758248682006,\n",
              " 'the': 1.2729656758128876}"
            ]
          },
          "metadata": {
            "tags": []
          },
          "execution_count": 16
        }
      ]
    },
    {
      "cell_type": "code",
      "metadata": {
        "id": "ZgURUaILdbpH",
        "colab_type": "code",
        "outputId": "60cb9a61-b656-4e60-8c25-b4d3d65e4940",
        "colab": {
          "base_uri": "https://localhost:8080/",
          "height": 238
        }
      },
      "source": [
        "resultTFIDF = {}\n",
        "\n",
        "for word in all_words:\n",
        "  resultTFIDF[word] = term_freq[word] * inver_freq[word]\n",
        "\n",
        "resultTFIDF"
      ],
      "execution_count": 0,
      "outputs": [
        {
          "output_type": "execute_result",
          "data": {
            "text/plain": [
              "{'am': 0.128755032994728,\n",
              " 'and': 0.128755032994728,\n",
              " 'beautifull': 0.128755032994728,\n",
              " 'i': 0.128755032994728,\n",
              " 'is': 0.2544316243440109,\n",
              " 'king': 0.20205829154466046,\n",
              " 'kingdom': 0.20205829154466046,\n",
              " 'prosperous': 0.128755032994728,\n",
              " 'queen': 0.2544316243440109,\n",
              " 'royal': 0.128755032994728,\n",
              " 'rule': 0.128755032994728,\n",
              " 'she': 0.128755032994728,\n",
              " 'the': 0.35643038922760856}"
            ]
          },
          "metadata": {
            "tags": []
          },
          "execution_count": 17
        }
      ]
    }
  ]
}